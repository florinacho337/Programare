{
  "nbformat": 4,
  "nbformat_minor": 0,
  "metadata": {
    "colab": {
      "provenance": [],
      "gpuType": "T4"
    },
    "kernelspec": {
      "name": "python3",
      "display_name": "Python 3"
    },
    "language_info": {
      "name": "python"
    },
    "accelerator": "GPU"
  },
  "cells": [
    {
      "cell_type": "code",
      "execution_count": null,
      "metadata": {
        "colab": {
          "base_uri": "https://localhost:8080/"
        },
        "id": "6T0no9nS5pPb",
        "outputId": "313dd0d4-0469-4118-fe8f-bdeae0be9a7e"
      },
      "outputs": [
        {
          "output_type": "stream",
          "name": "stdout",
          "text": [
            "nvcc: NVIDIA (R) Cuda compiler driver\n",
            "Copyright (c) 2005-2023 NVIDIA Corporation\n",
            "Built on Tue_Aug_15_22:02:13_PDT_2023\n",
            "Cuda compilation tools, release 12.2, V12.2.140\n",
            "Build cuda_12.2.r12.2/compiler.33191640_0\n"
          ]
        }
      ],
      "source": [
        "!nvcc --version"
      ]
    },
    {
      "cell_type": "code",
      "source": [
        "!pip install nvcc4jupyter"
      ],
      "metadata": {
        "colab": {
          "base_uri": "https://localhost:8080/"
        },
        "id": "9uOuz49J6PqA",
        "outputId": "8043199d-3f78-4439-e73b-1380f9583fc8"
      },
      "execution_count": 2,
      "outputs": [
        {
          "output_type": "stream",
          "name": "stdout",
          "text": [
            "Collecting nvcc4jupyter\n",
            "  Downloading nvcc4jupyter-1.2.1-py3-none-any.whl.metadata (5.1 kB)\n",
            "Downloading nvcc4jupyter-1.2.1-py3-none-any.whl (10 kB)\n",
            "Installing collected packages: nvcc4jupyter\n",
            "Successfully installed nvcc4jupyter-1.2.1\n"
          ]
        }
      ]
    },
    {
      "cell_type": "code",
      "source": [
        "%load_ext nvcc4jupyter"
      ],
      "metadata": {
        "colab": {
          "base_uri": "https://localhost:8080/"
        },
        "id": "tVMHAqS_6Tqz",
        "outputId": "333a05e3-3972-42f2-94bd-a3ea5f5dbffd"
      },
      "execution_count": 3,
      "outputs": [
        {
          "output_type": "stream",
          "name": "stdout",
          "text": [
            "Detected platform \"Colab\". Running its setup...\n",
            "Source files will be saved in \"/tmp/tmpwmolcrct\".\n"
          ]
        }
      ]
    },
    {
      "cell_type": "code",
      "source": [
        "%%cuda\n",
        "#include \"cuda_runtime.h\"\n",
        "#include \"device_launch_parameters.h\"\n",
        "#include <stdio.h>\n",
        "#include <stdlib.h>\n",
        "#include <iostream>\n",
        "#include <fstream>\n",
        "#include <chrono>\n",
        "#include <cassert>\n",
        "\n",
        "#define BLOCK_SIZE 32 // Dimensiunea unui bloc CUDA\n",
        "\n",
        "using namespace std;\n",
        "\n",
        "// Kernel CUDA pentru aplicarea unui filtru 3x3\n",
        "__global__ void applyFilter3x3(int* in, int* out, int rows, int cols) {\n",
        "    // Calculăm poziția absolută a thread-ului în matrice\n",
        "    int row = blockIdx.y * blockDim.y + threadIdx.y;\n",
        "    int col = blockIdx.x * blockDim.x + threadIdx.x;\n",
        "\n",
        "    // Procesăm toate celulele, inclusiv marginile (duplicăm valori la margini)\n",
        "    if (row < rows && col < cols){\n",
        "      int value = 0;\n",
        "\n",
        "      for (int i = -1; i <= 1; ++i) {\n",
        "          for (int j = -1; j <= 1; ++j) {\n",
        "              int r = min(max(row + i, 0), rows - 1);\n",
        "              int c = min(max(col + j, 0), cols - 1);\n",
        "              value += -1 * in[r * cols + c];\n",
        "          }\n",
        "      }\n",
        "\n",
        "      // Stocăm rezultatul în matricea de ieșire\n",
        "      out[row * cols + col] = value;\n",
        "    }\n",
        "}\n",
        "\n",
        "void initializeAndWriteMatrixToFile(const char* filename, int rows, int cols) {\n",
        "    ofstream file(filename);\n",
        "    if (!file) {\n",
        "        cerr << \"Error: Unable to open file for writing: \" << filename << endl;\n",
        "        return;\n",
        "    }\n",
        "\n",
        "    file << rows << \" \" << cols << endl;\n",
        "    for (int i = 0; i < rows; ++i) {\n",
        "        for (int j = 0; j < cols; ++j) {\n",
        "            int value = rand() % 256;\n",
        "            file << value << \" \";\n",
        "        }\n",
        "        file << endl;\n",
        "    }\n",
        "\n",
        "    file.close();\n",
        "}\n",
        "\n",
        "void readMatrixFromFile(const char* filename, int* matrix, int rows, int cols) {\n",
        "    ifstream file(filename);\n",
        "    if (!file) {\n",
        "        cerr << \"Error: Unable to open file for reading: \" << filename << endl;\n",
        "        return;\n",
        "    }\n",
        "\n",
        "    int fileRows, fileCols;\n",
        "    file >> fileRows >> fileCols;\n",
        "\n",
        "    if (fileRows != rows || fileCols != cols) {\n",
        "        cerr << \"Error: Matrix dimensions in file do not match expected dimensions.\" << endl;\n",
        "        file.close();\n",
        "        return;\n",
        "    }\n",
        "\n",
        "    for (int i = 0; i < rows; ++i) {\n",
        "        for (int j = 0; j < cols; ++j) {\n",
        "            file >> matrix[i * cols + j];\n",
        "        }\n",
        "    }\n",
        "\n",
        "    file.close();\n",
        "}\n",
        "\n",
        "void writeMatrixToFile(const char* filename, int* matrix, int rows, int cols) {\n",
        "    ofstream file(filename);\n",
        "    if (!file) {\n",
        "        cerr << \"Error: Unable to open file for writing: \" << filename << endl;\n",
        "        return;\n",
        "    }\n",
        "\n",
        "    for (int i = 0; i < rows; ++i) {\n",
        "        for (int j = 0; j < cols; ++j) {\n",
        "            file << matrix[i * cols + j] << \" \";\n",
        "        }\n",
        "        file << endl;\n",
        "    }\n",
        "\n",
        "    file.close();\n",
        "}\n",
        "\n",
        "// Filtrare secvențială\n",
        "void applyFilterSequential(int* in, int* out, int rows, int cols) {\n",
        "    for (int row = 0; row < rows; ++row) {\n",
        "        for (int col = 0; col < cols; ++col) {\n",
        "            int value = 0;\n",
        "            for (int i = -1; i <= 1; ++i) {\n",
        "                for (int j = -1; j <= 1; ++j) {\n",
        "                    int r = min(max(row + i, 0), rows - 1);\n",
        "                    int c = min(max(col + j, 0), cols - 1);\n",
        "                    value += -1 * in[r * cols + c];\n",
        "                }\n",
        "            }\n",
        "            out[row * cols + col] = value;\n",
        "        }\n",
        "    }\n",
        "}\n",
        "\n",
        "void applyFilter(const char* inputFilename, const char* outputFilename, int rows, int cols) {\n",
        "    int size = rows * cols * sizeof(int);\n",
        "\n",
        "    // Alocăm memorie pentru matrici pe host (CPU)\n",
        "    int* h_in = (int*)malloc(size);\n",
        "    int* h_out = (int*)malloc(size);\n",
        "    int* h_seq_out = (int*)malloc(size);\n",
        "\n",
        "    // Citim matricea de intrare din fișier\n",
        "    readMatrixFromFile(inputFilename, h_in, rows, cols);\n",
        "\n",
        "    // Alocăm memorie pentru matrici pe device (GPU)\n",
        "    int* d_in;\n",
        "    int* d_out;\n",
        "    cudaMalloc(&d_in, size);\n",
        "    cudaMalloc(&d_out, size);\n",
        "\n",
        "    // Copiem matricea de intrare de pe host pe device\n",
        "    cudaMemcpy(d_in, h_in, size, cudaMemcpyHostToDevice);\n",
        "\n",
        "    // Calculăm dimensiunea grilei și a blocurilor\n",
        "    dim3 blockDim(BLOCK_SIZE, BLOCK_SIZE);\n",
        "    dim3 gridDim((rows + blockDim.x - 1) / blockDim.x, (cols + blockDim.y - 1) / blockDim.y);\n",
        "\n",
        "    auto startTime = chrono::high_resolution_clock::now();\n",
        "\n",
        "    // Lansăm kernel-ul CUDA\n",
        "    applyFilter3x3<<<gridDim, blockDim>>>(d_in, d_out, rows, cols);\n",
        "\n",
        "    auto endTime = chrono::high_resolution_clock::now();\n",
        "    double elapsed_time_ms = chrono::duration<double, std::milli>(endTime - startTime).count();\n",
        "    cout << \"CUDA time: \" << elapsed_time_ms << \" ms\" << endl;\n",
        "\n",
        "    // Copiem rezultatul înapoi de pe device pe host\n",
        "    cudaMemcpy(h_out, d_out, size, cudaMemcpyDeviceToHost);\n",
        "\n",
        "    // Scriem matricea filtrată în fișierul de ieșire\n",
        "    writeMatrixToFile(outputFilename, h_out, rows, cols);\n",
        "\n",
        "    // Aplicăm filtrul secvențial\n",
        "    auto seqStartTime = chrono::high_resolution_clock::now();\n",
        "    applyFilterSequential(h_in, h_seq_out, rows, cols);\n",
        "    auto seqEndTime = chrono::high_resolution_clock::now();\n",
        "    double seq_elapsed_time_ms = chrono::duration<double, std::milli>(seqEndTime - seqStartTime).count();\n",
        "    cout << \"Sequential time: \" << seq_elapsed_time_ms << \" ms\" << endl;\n",
        "\n",
        "    string seqFilename = string(\"seq\") + to_string(rows) + \".txt\";\n",
        "    writeMatrixToFile(seqFilename.c_str(), h_seq_out, rows, cols);\n",
        "\n",
        "    for (int i = 0; i < rows * cols; ++i) {\n",
        "        assert(h_out[i] == h_seq_out[i]);\n",
        "    }\n",
        "\n",
        "    // Eliberăm memoria\n",
        "    free(h_in);\n",
        "    free(h_out);\n",
        "    free(h_seq_out);\n",
        "    cudaFree(d_in);\n",
        "    cudaFree(d_out);\n",
        "}\n",
        "\n",
        "int main() {\n",
        "    const int rows1 = 100, cols1 = 100;\n",
        "    const int rows2 = 1000, cols2 = 1000;\n",
        "\n",
        "    // Uncomment the following lines to generate and write matrices to files\n",
        "    // initializeAndWriteMatrixToFile(\"matrix100.txt\", rows1, cols1);\n",
        "    // initializeAndWriteMatrixToFile(\"matrix1000.txt\", rows2, cols2);\n",
        "\n",
        "    // Aplicăm filtrul pe matricea 100x100\n",
        "    //applyFilter(\"matrix100.txt\", \"result100.txt\", rows1, cols1);\n",
        "\n",
        "    // Aplicăm filtrul pe matricea 1000x1000\n",
        "     applyFilter(\"matrix1000.txt\", \"result1000.txt\", rows2, cols2);\n",
        "\n",
        "    return 0;\n",
        "}\n"
      ],
      "metadata": {
        "colab": {
          "base_uri": "https://localhost:8080/"
        },
        "id": "Cat6XblP6Yti",
        "outputId": "e66c2e7d-41c4-4e9c-c5e5-178af1eb7d62"
      },
      "execution_count": 50,
      "outputs": [
        {
          "output_type": "stream",
          "name": "stdout",
          "text": [
            "CUDA time: 0.188284 ms\n",
            "Sequential time: 96.7178 ms\n",
            "\n"
          ]
        }
      ]
    }
  ]
}